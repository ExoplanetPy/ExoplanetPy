{
  "nbformat": 4,
  "nbformat_minor": 0,
  "metadata": {
    "colab": {
      "name": "Full Code.ipynb",
      "provenance": [],
      "collapsed_sections": []
    },
    "kernelspec": {
      "name": "python3",
      "display_name": "Python 3"
    }
  },
  "cells": [
    {
      "cell_type": "markdown",
      "metadata": {
        "id": "hm9lh3fFwTWY"
      },
      "source": [
        "### Imports\n"
      ]
    },
    {
      "cell_type": "code",
      "metadata": {
        "id": "jm1-sbIoHZxU"
      },
      "source": [
        "import copy\n",
        "import matplotlib.pyplot as plt\n",
        "import numpy as np\n",
        "import scipy\n",
        "from scipy.integrate import solve_ivp"
      ],
      "execution_count": 1,
      "outputs": []
    },
    {
      "cell_type": "code",
      "metadata": {
        "id": "875FoU_IyZH6"
      },
      "source": [
        "from matplotlib.pyplot import style\n",
        "import seaborn as sns\n",
        "\n",
        "sns.set()\n",
        "style.use('seaborn-talk')"
      ],
      "execution_count": 2,
      "outputs": []
    },
    {
      "cell_type": "markdown",
      "metadata": {
        "id": "ULBKm7EDwaT1"
      },
      "source": [
        "### Define a Planet Class"
      ]
    },
    {
      "cell_type": "code",
      "metadata": {
        "id": "jppg-xFAv_7j"
      },
      "source": [
        "class Planet:\n",
        "    def __init__(self, e=0.0, a=0.0, omega=0.0, Omega=0.0, i=0.0, r_p=0.0, first_periastron=0):\n",
        "        self.e = e  # eccentricity\n",
        "        self.a = a  # semi major axis\n",
        "        self.omega = omega  # argument of periapsis\n",
        "        self.Omega = Omega  # longitude of ascending node\n",
        "        self.i = i * (np.pi) / 180  # inclination\n",
        "        self.r_p = r_p  # planet radius\n",
        "        self.first_periastron = first_periastron  # time origin\n",
        "        self.alphas = self.alpha_wrt_time(e=self.e, split=1000, first_periastron=self.first_periastron)\n",
        "\n",
        "    def der_alpha(self, t, alpha, e):\n",
        "        return (2 * np.pi / (1 - e * e)**1.5) * (1 + e * np.cos(alpha))**2\n",
        "\n",
        "    def alpha_wrt_time(self, e=0.0, split=1000, first_periastron=0.0):\n",
        "        split = int(split)\n",
        "        t_span = (0.0, 1.0)\n",
        "        t = np.linspace(0.0, 1.0, split + 1)\n",
        "        y0 = np.array([0])\n",
        "        sol = solve_ivp(self.der_alpha, t_span, y0, t_eval=t, args=(e,))\n",
        "        alpha_array = sol.y[0]\n",
        "\n",
        "        def alphas(time):\n",
        "            nonlocal split, alpha_array\n",
        "            time = (time - first_periastron) % 1.0\n",
        "            n = time * split\n",
        "            if int(n) < split:\n",
        "                return alpha_array[int(n)]\n",
        "\n",
        "        return alphas\n",
        "\n",
        "    def getOrbitalElements(self):  # returns dictionary of Kepler Orbital elements\n",
        "        return {'Eccentricity': self.e,\n",
        "                'Semi Major Axis': self.a,\n",
        "                'Argument of Periapsis': self.omega,\n",
        "                'Longitude of Ascending Node': self.Omega,\n",
        "                'Inclination': self.i}\n",
        "\n",
        "    def getNu_from_time(self, time):  # returns true anomaly when time is inputted\n",
        "        # use solutions of differential equation\n",
        "        return self.alphas(time)\n",
        "\n",
        "    def getPosition_from_nu(self, nu):  # returns position when true anomaly is inputted\n",
        "        angle = nu + self.omega\n",
        "        n_x = np.cos(angle)\n",
        "        n_y = np.sin(angle) * np.cos(self.i)\n",
        "        n_z = np.sin(angle) * np.sin(self.i)\n",
        "\n",
        "        unit_vector = np.array([n_x, n_y, n_z])\n",
        "\n",
        "        r = self.a * (1 - self.e**2) / (1 + self.e * np.cos(nu))\n",
        "\n",
        "        position = np.array([r * unit_vector[0], r * unit_vector[1], r * unit_vector[2]])\n",
        "        return position\n",
        "\n",
        "    def getPosition(self, time):  # returns position when time is inputted\n",
        "        return self.getPosition_from_nu(self.getNu_from_time(time))\n",
        "\n",
        "    def setPeriod(self, period):\n",
        "        self.period = period  # To be calculated in System\n",
        "\n",
        "    def setSplit(self, split):\n",
        "        self.alphas = self.alpha_wrt_time(e=self.e, split=split, first_periastron=self.first_periastron)"
      ],
      "execution_count": 3,
      "outputs": []
    },
    {
      "cell_type": "markdown",
      "metadata": {
        "id": "3caQotA5wh4N"
      },
      "source": [
        "### Define a System class\n",
        "The system class takes in each initialised planet as a list ('planet_list')."
      ]
    },
    {
      "cell_type": "code",
      "metadata": {
        "id": "LOOWVNJMLIYQ"
      },
      "source": [
        "class System:\n",
        "    def __init__(self, star_prop: dict, planet_list, sort=True):\n",
        "        self.star_prop = star_prop\n",
        "        if sort:\n",
        "            self.planet_list = sorted(planet_list, key=lambda p: p.a)\n",
        "        else:\n",
        "            self.planet_list = planet_list\n",
        "        self.img_split = 100\n",
        "        self.time_split = 10000\n",
        "        self.n = 2.0\n",
        "        period_constant = (2 * np.pi) / ((scipy.constants.G * self.star_prop['Mass'] * 1.989e30)**0.5)\n",
        "        for planet in self.planet_list:\n",
        "            planet.setPeriod(period_constant * ((planet.a * 6.96e8)**1.5) / (36 * 24))  # days\n",
        "        self.total_time = max([planet.period for planet in self.planet_list])\n",
        "        for planet in self.planet_list:\n",
        "            planet.setSplit(self.time_split * planet.period / self.total_time)\n",
        "\n",
        "    def initialize_star(self, limb_func, split=1000):\n",
        "        star = np.zeros((2 * split + 1, 2 * split + 1))\n",
        "        total = 0\n",
        "        for i in range(-split, split + 1):\n",
        "            rg_j = abs(int((split**2 - i**2)**0.5))\n",
        "            for j in range(-rg_j, rg_j + 1):\n",
        "                x = (i) / split\n",
        "                y = (j) / split\n",
        "                cosine = abs((1 - x**2 - y**2)**0.5)\n",
        "                lum = limb_func(cosine)\n",
        "                total += lum\n",
        "                star[split + i][split + j] = lum\n",
        "\n",
        "        return star, total\n",
        "\n",
        "    def lum_wrt_coord(self, img, tot):\n",
        "        split = int((len(img) - 1) / 2)\n",
        "\n",
        "        def shadow(coord_x, coord_y, R_p):\n",
        "            nonlocal img, tot\n",
        "            x, y, Rp = int(coord_x * split), int(coord_y * split), int(R_p * split)\n",
        "            for i in range(-Rp, Rp + 1):\n",
        "                if y - i >= -split and y - i <= split:\n",
        "                    rg_j = abs(int((Rp**2 - i**2)**0.5))\n",
        "                    for j in range(-rg_j, rg_j + 1):\n",
        "                        if x + j >= -split and x + j <= split:\n",
        "                            m = split - y + i\n",
        "                            n = split + x + j\n",
        "                            lum = img[m][n]\n",
        "                            tot = tot - lum\n",
        "                            img[m][n] = 0\n",
        "\n",
        "        def lum():\n",
        "            nonlocal tot\n",
        "            return tot\n",
        "\n",
        "        def star():\n",
        "            nonlocal img\n",
        "            return img\n",
        "\n",
        "        return shadow, lum, star\n",
        "\n",
        "    def limb_dark(self, cosine):\n",
        "        if len(self.u) == 2:\n",
        "            return 1 - self.u[0] * (1 - cosine) - self.u[1] * ((1 - cosine)**2)\n",
        "        else:\n",
        "            raise NameError('Check the u values')\n",
        "\n",
        "    def getPosition(self, index, time):\n",
        "        return self.planet_list[index].getPosition(time)\n",
        "\n",
        "    def calc_lum(self, model='Quadratic', normalise=False):\n",
        "        if model == 'Quadratic':\n",
        "            self.u = [0.1, 0.2]\n",
        "            self.star, self.total = self.initialize_star(limb_func=self.limb_dark, split=self.img_split)\n",
        "        else:\n",
        "            raise NameError(\"Model does not exist\")\n",
        "        self.timespan = np.linspace(0, int(self.n) * self.total_time, int(self.n) * self.time_split + 1)\n",
        "        lum = []\n",
        "        for timing in self.timespan:\n",
        "            update, get_lum, get_star = self.lum_wrt_coord(copy.deepcopy(self.star), copy.deepcopy(self.total))\n",
        "            for planet in self.planet_list:\n",
        "                x, y, z = planet.getPosition(timing / planet.period)\n",
        "                if y * (planet.i - (np.pi / 2)) > 0:  # Only the part of orbit which is away from us\n",
        "                    continue\n",
        "                if x**2 + y**2 > 2 * ((1 + planet.r_p)**2):\n",
        "                    continue\n",
        "\n",
        "                update(x, y, planet.r_p)\n",
        "            lum.append(get_lum())\n",
        "        lum = np.array(lum)\n",
        "        if normalise:\n",
        "            lum = lum / max(lum)\n",
        "        return lum\n",
        "\n",
        "    def plot(self, model='Quadratic', normalise=False):\n",
        "        \"\"\"Plot the transit curve\"\"\"\n",
        "        lum = self.calc_lum(model, normalise)\n",
        "\n",
        "        fig = plt.figure(figsize=(10, 6))\n",
        "        ax = fig.add_subplot(111)\n",
        "        ax.scatter(self.timespan / 100, lum, s=1, c='b')\n",
        "        ax.set_xlim(0, max(self.timespan) / 100)\n",
        "        ax.tick_params(axis='x', labelsize=14)\n",
        "        ax.tick_params(axis='y', labelsize=14)\n",
        "        ax.set_xlabel('Time in days', fontsize=18)\n",
        "        ax.set_ylabel('Relative luminosity', fontsize=18)\n",
        "        ax.set_title('Transit Curve - {} Planet system'.format(len(self.planet_list)), fontsize=22)\n",
        "        ax.grid(True)\n",
        "\n",
        "        plt.show()"
      ],
      "execution_count": 4,
      "outputs": []
    },
    {
      "cell_type": "markdown",
      "metadata": {
        "id": "vSicZjXPxeIu"
      },
      "source": [
        "### Testing:"
      ]
    },
    {
      "cell_type": "code",
      "metadata": {
        "id": "IpePeUckJKUj",
        "outputId": "96c5cf9b-7761-4b9b-b1ec-4a65558faa3f",
        "colab": {
          "base_uri": "https://localhost:8080/",
          "height": 430
        }
      },
      "source": [
        "p1 = Planet(e=0.0, a=8, omega=0, Omega=0, i=89.9, r_p=0.1, first_periastron=0.0)\n",
        "p2 = Planet(e=0.0, a=2, omega=0, Omega=0, i=89.9, r_p=0.05, first_periastron=0.0)\n",
        "sys = System(star_prop={'Mass': 4}, planet_list=[p1,p2], sort=True)\n",
        "sys.plot(model='Quadratic', normalise=True)"
      ],
      "execution_count": 5,
      "outputs": [
        {
          "output_type": "display_data",
          "data": {
            "image/png": "[encoded data removed]",
            "text/plain": [
              "<Figure size 720x432 with 1 Axes>"
            ]
          },
          "metadata": {
            "tags": []
          }
        }
      ]
    }
  ]
}