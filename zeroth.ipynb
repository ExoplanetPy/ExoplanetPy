{
 "metadata": {
  "language_info": {
   "codemirror_mode": {
    "name": "ipython",
    "version": 3
   },
   "file_extension": ".py",
   "mimetype": "text/x-python",
   "name": "python",
   "nbconvert_exporter": "python",
   "pygments_lexer": "ipython3",
   "version": "3.8.6-final"
  },
  "orig_nbformat": 2,
  "kernelspec": {
   "name": "python_defaultSpec_1601111751857",
   "display_name": "Python 3.8.6 64-bit ('3.8.5')",
   "metadata": {
    "interpreter": {
     "hash": "ca5784e80d0cd95dc70d3368c96900f6f0c4ccdefacd5a1bed7ac7ddb3461c75"
    }
   }
  }
 },
 "nbformat": 4,
 "nbformat_minor": 2,
 "cells": [
  {
   "cell_type": "code",
   "execution_count": null,
   "metadata": {},
   "outputs": [],
   "source": [
    "class System:\n",
    "  def __init__(obj, star: dict, planet_list, sort=True):\n",
    "    obj.star = star\n",
    "    if sort:\n",
    "      obj.planet_list = sorted(planet_list, key = lambda p: p['semi major axis'])\n",
    "      # change if planet_list not dictionary\n",
    "    else:\n",
    "      obj.planet_list = planet_list\n",
    "\n",
    "  def getPosition(index, time):\n",
    "    return obj.planet_list[index].getPosition(time)"
   ]
  },
  {
   "cell_type": "code",
   "execution_count": null,
   "metadata": {},
   "outputs": [],
   "source": [
    "class Planet:\n",
    "  def __init__(e,a,omega,capital_omega,i,r_p,first_periastron=0):\n",
    "    self.e = e\n",
    "    self.a = a\n",
    "    self.omega = omega\n",
    "    self.capital_omega = captial_omega\n",
    "    self.i = i\n",
    "    self.r_p = r_p\n",
    "    self.first_periaston = first_periastron"
   ]
  },
  {
   "cell_type": "code",
   "execution_count": null,
   "metadata": {},
   "outputs": [],
   "source": []
  },
  {
   "cell_type": "code",
   "execution_count": null,
   "metadata": {},
   "outputs": [],
   "source": []
  }
 ]
}