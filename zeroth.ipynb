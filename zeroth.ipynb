{
 "metadata": {
  "language_info": {
   "codemirror_mode": {
    "name": "ipython",
    "version": 3
   },
   "file_extension": ".py",
   "mimetype": "text/x-python",
   "name": "python",
   "nbconvert_exporter": "python",
   "pygments_lexer": "ipython3",
   "version": "3.8.6-final"
  },
  "orig_nbformat": 2,
  "kernelspec": {
   "name": "Python 3.8.6 64-bit ('3.8.5': venv)",
   "display_name": "Python 3.8.6 64-bit ('3.8.5': venv)",
   "metadata": {
    "interpreter": {
     "hash": "ca5784e80d0cd95dc70d3368c96900f6f0c4ccdefacd5a1bed7ac7ddb3461c75"
    }
   }
  }
 },
 "nbformat": 4,
 "nbformat_minor": 2,
 "cells": [
  {
   "cell_type": "code",
   "execution_count": 10,
   "metadata": {},
   "outputs": [],
   "source": [
    "# import sys\n",
    "\n",
    "# import matplotlib.pyplot as plt\n",
    "import numpy as np\n",
    "from scipy.integrate import solve_ivp\n",
    "\n",
    "\n",
    "class Planet:\n",
    "    def __init__(self, e, a, omega, Omega, i, r_p, first_periastron=0):\n",
    "        self.e = e  # eccentricity\n",
    "        self.a = a  # semi major axis\n",
    "        self.omega = omega  # argument of periapsis\n",
    "        self.Omega = Omega  # longitude of ascending node\n",
    "        self.i = i  # inclination\n",
    "        self.r_p = r_p  # planet radius\n",
    "        self.first_periaston = first_periastron  # time origin, perhaps keep as a datetime object?\n",
    "        self.split = 1000\n",
    "        self.alphas = self.alpha_wrt_time(e=self.e, split=self.split, first_periastron=self.first_periastron)\n",
    "\n",
    "    def der_alpha(self, t, alpha, e):\n",
    "        return (2 * np.pi / (1 - e * e)**1.5) * (1 + e * np.cos(alpha))**2\n",
    "\n",
    "    def alpha_wrt_time(self, e=0.0, split=1000, first_periastron=0.0):\n",
    "        t_span = (0.0, 1.0)\n",
    "        t = np.linspace(0.0, 1.0, split + 1)\n",
    "        y0 = np.array([0])\n",
    "        sol = solve_ivp(self.der_alpha, t_span, y0, t_eval=t, args=(e,))\n",
    "        alpha_array = sol.y[0]\n",
    "        # return lambda time : alpha_array[int((time%1) * split)]\n",
    "\n",
    "        def alphas(time):\n",
    "            nonlocal split, alpha_array\n",
    "            time = (time - first_periastron) % 1.0\n",
    "            n = time * split\n",
    "            if int(n) < split:\n",
    "                return alpha_array[int(n)]\n",
    "\n",
    "        return alphas\n",
    "\n",
    "    def getOrbitalElements(self):  # returns dictionary of Kepler Orbital elements (everything above except radius and first_periastron)\n",
    "        return {'Eccentricity': self.e,\n",
    "                'Semi Major Axis': self.a,\n",
    "                'Argument of Periapsis': self.omega,\n",
    "                'Longitude of Ascending Node': self.Omega,\n",
    "                'Inclination': self.i}\n",
    "\n",
    "    def getNu_from_time(self, time):  # returns true anomaly when time is inputted\n",
    "        # use solutions of differential equation\n",
    "        self.alphas(time)\n",
    "        pass\n",
    "\n",
    "    def getPosition_from_nu(self, nu):  # returns position when true anomaly is inputted\n",
    "        n_x = -np.cos(self.i) * np.cos(self.Omega) * np.sin(self.omega + self.nu) - np.sin(self.Omega) * np.cos(self.omega + self.nu)\n",
    "        n_y = np.cos(self.Omega) * np.cos(self.omega + self.nu) - np.cos(self.i) * np.sin(self.Omega) * np.sin(self.omega + self.nu)\n",
    "        n_z = np.sin(self.i) * np.sin(self.omega + self.nu)\n",
    "        unit_vector = np.array([n_x, n_y, n_z])\n",
    "\n",
    "        r = self.a * (1 - self.e**2) / (1 + self.e * np.cos(self.nu))\n",
    "\n",
    "        position = np.array([r * unit_vector[0], r * unit_vector[1], r * unit_vector[2]])\n",
    "        return position\n",
    "\n",
    "    def getPosition(self, time):  # returns position when time is inputted (just combining the above two functions)\n",
    "        return self.getPosition_from_nu(self.getNu_from_time(time))\n"
   ]
  },
  {
   "cell_type": "code",
   "execution_count": 11,
   "metadata": {},
   "outputs": [],
   "source": [
    "class System:\n",
    "  def __init__(obj, star: dict, planet_list, sort=True):\n",
    "    obj.star = star\n",
    "    if sort:\n",
    "      obj.planet_list = sorted(planet_list, key = lambda p: p.a) # if planet object not dictionary\n",
    "    else:\n",
    "      obj.planet_list = planet_list\n",
    "\n",
    "  def getPosition(index, time):\n",
    "    return obj.planet_list[index].getPosition(time)\n",
    "\n",
    "  def plot(model='Quadratic',normalise=False):\n",
    "    \"\"\"Plot the transit curve\"\"\"\n",
    "\n",
    "  def visualise(): #not sure what arguments need to be here\n",
    "    \"\"\"Plot actual images from Earth's vantage point\"\"\""
   ]
  },
  {
   "cell_type": "code",
   "execution_count": null,
   "metadata": {},
   "outputs": [],
   "source": []
  },
  {
   "cell_type": "code",
   "execution_count": null,
   "metadata": {},
   "outputs": [],
   "source": []
  }
 ]
}